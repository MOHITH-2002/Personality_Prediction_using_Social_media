{
 "cells": [
  {
   "cell_type": "code",
   "execution_count": 1,
   "id": "87989c77",
   "metadata": {},
   "outputs": [
    {
     "name": "stdout",
     "output_type": "stream",
     "text": [
      "Requirement already satisfied: instaloader in c:\\users\\mohith\\anaconda3\\lib\\site-packages (4.10)\n",
      "Requirement already satisfied: requests>=2.4 in c:\\users\\mohith\\anaconda3\\lib\\site-packages (from instaloader) (2.31.0)\n",
      "Requirement already satisfied: charset-normalizer<4,>=2 in c:\\users\\mohith\\anaconda3\\lib\\site-packages (from requests>=2.4->instaloader) (2.0.4)\n",
      "Requirement already satisfied: idna<4,>=2.5 in c:\\users\\mohith\\anaconda3\\lib\\site-packages (from requests>=2.4->instaloader) (3.4)\n",
      "Requirement already satisfied: urllib3<3,>=1.21.1 in c:\\users\\mohith\\anaconda3\\lib\\site-packages (from requests>=2.4->instaloader) (1.26.16)\n",
      "Requirement already satisfied: certifi>=2017.4.17 in c:\\users\\mohith\\anaconda3\\lib\\site-packages (from requests>=2.4->instaloader) (2023.7.22)\n",
      "Note: you may need to restart the kernel to use updated packages.\n"
     ]
    }
   ],
   "source": [
    "pip install instaloader"
   ]
  },
  {
   "cell_type": "code",
   "execution_count": 5,
   "id": "a1b212c0",
   "metadata": {},
   "outputs": [
    {
     "name": "stdout",
     "output_type": "stream",
     "text": [
      "Enter the username: __rishab.15__\n",
      "                                             Captions\n",
      "0                                No caption available\n",
      "1   🖤🖤🖤\\n \\n.\\n.\\n.\\n.\\n.\\n.\\n.\\n.\\n.\\n.\\n.\\n.\\n.\\...\n",
      "2   🖤✨\\nSis engagement vibes \\n.\\n.\\n.\\n.\\n \\n #me...\n",
      "3                                                 🌺🔱💮\n",
      "4                ƒєω нσυяѕ тσ Ɠαηєѕн υтѕαν 2к23 🌺🥳...\n",
      "5                                🔱 𝕳𝖆𝖗 𝕳𝖆𝖗 𝕸𝖆𝖍𝖆𝖉𝖊𝖛..🌺\n",
      "6   📍श्री क्षेत्र त्रंबकेश्वर...\\n #trimbakraj🔱🚩\\n...\n",
      "7   Coz's it's Trending ❤‍🔥👑✨\\n.\\n.\\n.\\n.\\n.\\n.\\n....\n",
      "8   🔥🚩\\n.\\n.\\n.\\n.\\n.\\n.\\n.\\n.\\n.\\n.\\n.\\n#reels #r...\n",
      "9   🥳🌊\\n\\n.\\n.\\n.\\n#shirdi #wetnjoy #waterpark #en...\n",
      "10  💥⚡...\\n.\\n.\\n.\\n.\\n.\\n.\\n.\\n#me #style #explor...\n",
      "11  🖤🥀\\n.\\n.\\n.\\n.\\n.\\n.\\n.\\n.\\n.\\n.\\n.\\n#me #tren...\n",
      "12  In Goa 🏖️\\n.\\n.\\n.\\n#goa #goatour #talkingtoth...\n",
      "13  Recap 2021🙋\\n.\\n.\\n.\\n.\\n.\\n#letsrecap2021 #re...\n",
      "14  Aksharam family Goa Trip 🏖️⚡\\n.\\n.\\n.\\n.\\n.\\n....\n",
      "15  Drifting 😎🤏🤘\\n.\\n.\\n.\\n.\\n.\\n.\\n#driving #drif...\n",
      "16  😎⚡✨\\n.\\n.\\n.\\n.\\n.\\n.\\n.\\n.\\n#me #photography ...\n",
      "17  .\\nLife is short and the world is wide. I bett...\n",
      "18  ......ȶǟӄɛ ʍɛʍօʀɨɛֆ, ʟɛǟʋɛ ʄօօȶքʀɨռȶֆ............\n",
      "19  .\\n .\\n.\\n.\\n.\\n.\\n.\\n.\\n.\\n.\\n.\\n#me #photo #...\n",
      "20  .\\n.\\n.\\n.\\n#reels #reelsinstagram #me #hargha...\n",
      "21  .✨\\n.\\n.\\n.\\n#udaipur #citypalaceudaipur #phot...\n",
      "22  .\\n.\\n.\\n.\\n.\\n.\\n.#me#photography #foryou #fo...\n",
      "23  .\\n.\\n.#me #photographylovers #india #instagra...\n",
      "24  😎\\n.\\n.\\n.\\n.\\n#photography #photographylovers...\n",
      "25  No caption....😎.\\n\\nPc-@dashing_boy143m..\\n\\n....\n",
      "26         .\\n\\n#enjoylife #loveyourself #photography\n",
      "27  Ï hãvĕ ţø bə ØĐĎ, ťő bē ñûmbëř ŐÑ€\\n.\\n.\\n.\\n....\n",
      "28  😎🖤💫. .\\n. \\n. \\n.\\n.\\n.\\n.\\n.\\n#photoshoot #lo...\n",
      "29                   What do you think of this look?😎\n",
      "30                     .\\n.#Editor -@harshal_r_jain .\n",
      "31  I always laugh when people try to hurt my feel...\n",
      "32  “Sometimes, you keep on waiting for that perfe...\n"
     ]
    }
   ],
   "source": [
    "import instaloader\n",
    "import csv\n",
    "import pandas as pd\n",
    "\n",
    "class GetInstagramProfile():\n",
    "    def __init__(self):\n",
    "        self.L = instaloader.Instaloader()\n",
    "\n",
    "    def download_users_profile_picture(self, username):\n",
    "        self.L.download_profile(username, profile_pic_only=True)\n",
    "\n",
    "    def get_post_info_csv(self, username):\n",
    "        captions = []  # List to store captions\n",
    "        posts = instaloader.Profile.from_username(self.L.context, username).get_posts()\n",
    "        \n",
    "        with open(username + '.csv', 'w', newline='', encoding='utf-8') as file:\n",
    "            writer = csv.writer(file)\n",
    "            for i, post in enumerate(posts, start=1):\n",
    "                caption = post.caption if post.caption is not None else \"No caption available\"\n",
    "                captions.append(caption)\n",
    "                writer.writerow([\"post \" + str(i), caption]) \n",
    "        \n",
    "        # Create a DataFrame from the list of captions\n",
    "        data = {'Captions': captions}\n",
    "        df = pd.DataFrame(data)\n",
    "        print(df)\n",
    "        \n",
    "        # Save the DataFrame to a CSV file\n",
    "        # df.to_csv(username + '_captions.csv', index=False)\n",
    "\n",
    "if __name__ == \"__main__\":\n",
    "    username = input(\"Enter the username: \")\n",
    "    cls = GetInstagramProfile()\n",
    "    cls.get_post_info_csv(username)\n"
   ]
  },
  {
   "cell_type": "code",
   "execution_count": null,
   "id": "7a26f6cc",
   "metadata": {},
   "outputs": [],
   "source": []
  }
 ],
 "metadata": {
  "kernelspec": {
   "display_name": "Python 3 (ipykernel)",
   "language": "python",
   "name": "python3"
  },
  "language_info": {
   "codemirror_mode": {
    "name": "ipython",
    "version": 3
   },
   "file_extension": ".py",
   "mimetype": "text/x-python",
   "name": "python",
   "nbconvert_exporter": "python",
   "pygments_lexer": "ipython3",
   "version": "3.11.4"
  }
 },
 "nbformat": 4,
 "nbformat_minor": 5
}
