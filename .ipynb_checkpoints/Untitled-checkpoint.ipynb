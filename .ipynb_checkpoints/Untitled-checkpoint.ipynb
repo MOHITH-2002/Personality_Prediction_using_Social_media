{
 "cells": [
  {
   "cell_type": "code",
   "execution_count": 1,
   "id": "a20f12bc",
   "metadata": {},
   "outputs": [
    {
     "name": "stdout",
     "output_type": "stream",
     "text": [
      "Requirement already satisfied: instaloader in c:\\users\\mohith\\anaconda3\\lib\\site-packages (4.10)\n",
      "Requirement already satisfied: requests>=2.4 in c:\\users\\mohith\\anaconda3\\lib\\site-packages (from instaloader) (2.31.0)\n",
      "Requirement already satisfied: charset-normalizer<4,>=2 in c:\\users\\mohith\\anaconda3\\lib\\site-packages (from requests>=2.4->instaloader) (2.0.4)\n",
      "Requirement already satisfied: idna<4,>=2.5 in c:\\users\\mohith\\anaconda3\\lib\\site-packages (from requests>=2.4->instaloader) (3.4)\n",
      "Requirement already satisfied: urllib3<3,>=1.21.1 in c:\\users\\mohith\\anaconda3\\lib\\site-packages (from requests>=2.4->instaloader) (1.26.16)\n",
      "Requirement already satisfied: certifi>=2017.4.17 in c:\\users\\mohith\\anaconda3\\lib\\site-packages (from requests>=2.4->instaloader) (2023.7.22)\n",
      "Note: you may need to restart the kernel to use updated packages.\n"
     ]
    }
   ],
   "source": [
    "pip install instaloader"
   ]
  },
  {
   "cell_type": "code",
   "execution_count": 3,
   "id": "c4507b16",
   "metadata": {},
   "outputs": [
    {
     "name": "stdout",
     "output_type": "stream",
     "text": [
      "Enter the username: __rishab.15__\n"
     ]
    },
    {
     "ename": "NameError",
     "evalue": "name 'writer' is not defined",
     "output_type": "error",
     "traceback": [
      "\u001b[1;31m---------------------------------------------------------------------------\u001b[0m",
      "\u001b[1;31mNameError\u001b[0m                                 Traceback (most recent call last)",
      "Cell \u001b[1;32mIn[3], line 32\u001b[0m\n\u001b[0;32m     30\u001b[0m username \u001b[38;5;241m=\u001b[39m \u001b[38;5;28minput\u001b[39m(\u001b[38;5;124m\"\u001b[39m\u001b[38;5;124mEnter the username: \u001b[39m\u001b[38;5;124m\"\u001b[39m)\n\u001b[0;32m     31\u001b[0m \u001b[38;5;28mcls\u001b[39m \u001b[38;5;241m=\u001b[39m GetInstagramProfile()\n\u001b[1;32m---> 32\u001b[0m \u001b[38;5;28mcls\u001b[39m\u001b[38;5;241m.\u001b[39mget_post_info_csv(username)\n",
      "Cell \u001b[1;32mIn[3], line 18\u001b[0m, in \u001b[0;36mGetInstagramProfile.get_post_info_csv\u001b[1;34m(self, username)\u001b[0m\n\u001b[0;32m     16\u001b[0m     caption \u001b[38;5;241m=\u001b[39m post\u001b[38;5;241m.\u001b[39mcaption \u001b[38;5;28;01mif\u001b[39;00m post\u001b[38;5;241m.\u001b[39mcaption \u001b[38;5;129;01mis\u001b[39;00m \u001b[38;5;129;01mnot\u001b[39;00m \u001b[38;5;28;01mNone\u001b[39;00m \u001b[38;5;28;01melse\u001b[39;00m \u001b[38;5;124m\"\u001b[39m\u001b[38;5;124mNo caption available\u001b[39m\u001b[38;5;124m\"\u001b[39m\n\u001b[0;32m     17\u001b[0m     captions\u001b[38;5;241m.\u001b[39mappend(caption)\n\u001b[1;32m---> 18\u001b[0m     writer\u001b[38;5;241m.\u001b[39mwriterow([\u001b[38;5;124m\"\u001b[39m\u001b[38;5;124mpost \u001b[39m\u001b[38;5;124m\"\u001b[39m \u001b[38;5;241m+\u001b[39m \u001b[38;5;28mstr\u001b[39m(i), caption]) \n\u001b[0;32m     20\u001b[0m \u001b[38;5;66;03m# Create a DataFrame from the list of captions\u001b[39;00m\n\u001b[0;32m     21\u001b[0m data \u001b[38;5;241m=\u001b[39m {\u001b[38;5;124m'\u001b[39m\u001b[38;5;124mCaptions\u001b[39m\u001b[38;5;124m'\u001b[39m: captions}\n",
      "\u001b[1;31mNameError\u001b[0m: name 'writer' is not defined"
     ]
    }
   ],
   "source": [
    "import instaloader\n",
    "import csv\n",
    "import pandas as pd\n",
    "\n",
    "class GetInstagramProfile():\n",
    "    def __init__(self):\n",
    "        self.L = instaloader.Instaloader()\n",
    "\n",
    "    def download_users_profile_picture(self, username):\n",
    "        self.L.download_profile(username, profile_pic_only=True)\n",
    "\n",
    "    def get_post_info_csv(self, username):\n",
    "        with open(username + '.csv', 'w', newline='', encoding='utf-8') as file:\n",
    "            writer = csv.writer(file)\n",
    "        captions = []  # List to store captions\n",
    "        posts = instaloader.Profile.from_username(self.L.context, username).get_posts()\n",
    "        for i, post in enumerate(posts, start=1):\n",
    "            caption = post.caption if post.caption is not None else \"No caption available\"\n",
    "            captions.append(caption)\n",
    "            writer.writerow([\"post \" + str(i), caption]) \n",
    "        \n",
    "        # Create a DataFrame from the list of captions\n",
    "        data = {'Captions': captions}\n",
    "        df = pd.DataFrame(data)\n",
    "        print(df)\n",
    "        \n",
    "        # Save the DataFrame to a CSV file\n",
    "            \n",
    "#         df.to_csv(username + '_captions.csv', index=False)\n",
    "\n",
    "if __name__ == \"__main__\":\n",
    "    username = input(\"Enter the username: \")\n",
    "    cls = GetInstagramProfile()\n",
    "    cls.get_post_info_csv(username)\n"
   ]
  },
  {
   "cell_type": "code",
   "execution_count": null,
   "id": "3d251515",
   "metadata": {},
   "outputs": [],
   "source": []
  }
 ],
 "metadata": {
  "kernelspec": {
   "display_name": "Python 3 (ipykernel)",
   "language": "python",
   "name": "python3"
  },
  "language_info": {
   "codemirror_mode": {
    "name": "ipython",
    "version": 3
   },
   "file_extension": ".py",
   "mimetype": "text/x-python",
   "name": "python",
   "nbconvert_exporter": "python",
   "pygments_lexer": "ipython3",
   "version": "3.11.4"
  }
 },
 "nbformat": 4,
 "nbformat_minor": 5
}
